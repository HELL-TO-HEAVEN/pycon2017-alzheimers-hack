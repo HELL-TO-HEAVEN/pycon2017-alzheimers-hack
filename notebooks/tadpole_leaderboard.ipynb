{
 "cells": [
  {
   "cell_type": "markdown",
   "metadata": {},
   "source": [
    "# PyCon UK: Alzheimer's Disease Challenge Hackathon\n",
    "\n",
    "Important! make sure you have added your email and name here before proceeding further: https://tinyurl.com/y76vk384"
   ]
  },
  {
   "cell_type": "code",
   "execution_count": 1,
   "metadata": {},
   "outputs": [
    {
     "name": "stdout",
     "output_type": "stream",
     "text": [
      "3.5.1 (v3.5.1:37a07cee5969, Dec  5 2015, 21:12:44) \n",
      "[GCC 4.2.1 (Apple Inc. build 5666) (dot 3)]\n"
     ]
    }
   ],
   "source": [
    "# To support both python 2 and python 3\n",
    "# from __future__ import division, print_function, unicode_literals\n",
    "\n",
    "import os\n",
    "from zipfile import ZipFile\n",
    "from six.moves import urllib\n",
    "\n",
    "\n",
    "import sys\n",
    "print(sys.version)"
   ]
  },
  {
   "cell_type": "code",
   "execution_count": 2,
   "metadata": {
    "collapsed": true
   },
   "outputs": [],
   "source": [
    "!mkdir -p ../data\n",
    "TADPOLE_PATH = os.path.join(\"..\", \"data\")"
   ]
  },
  {
   "cell_type": "markdown",
   "metadata": {},
   "source": [
    "* Check your email, you will have received a login for lda.loni.usc.edu.\n",
    "\n",
    "Then download the zipfile from: https://ida.loni.usc.edu/pages/access/studyData.jsp?categoryId=43&subCategoryId=94\n",
    "\n",
    "* After log-in, select Projects -> ADNI -> Download -> Study Data\n",
    "* In the \"Find\" entry box type \"tadpole\" <ENTER>\n",
    "* Select \"Tadpole Challenge Data\" and click on the DOWNLOAD button\n",
    "* Once \"tadpole_challenge.zip\" is downloaded, save it under ../data/\n",
    "* The function below will extract the files for you into the ../data folder."
   ]
  },
  {
   "cell_type": "code",
   "execution_count": 16,
   "metadata": {},
   "outputs": [],
   "source": [
    "\n",
    "def fetch_tadpole_data(tadpole_path=TADPOLE_PATH):\n",
    "    if not os.path.isdir(tadpole_path):\n",
    "        os.makedirs(tadpole_path)\n",
    "    zip_path = os.path.join(tadpole_path, \"tadpole_challenge.zip\")\n",
    "    if not os.path.isdir(zip_path):\n",
    "        raise ValueError(\"please move the downloaded zipfile to %s folder\" % TADPOLE_PATH)\n",
    "    print(\"extracting from %s\" % zip_path)\n",
    "#     urllib.request.urlretrieve(tadpole_url, zip_path)\n",
    "    with ZipFile(zip_path) as tadpole_zip:\n",
    "\n",
    "        tadpole_zip.extractall(path=tadpole_path)\n",
    "        tadpole_zip.close()\n",
    "        \n",
    "fetch_tadpole_data()"
   ]
  },
  {
   "cell_type": "markdown",
   "metadata": {},
   "source": [
    "# Make Leaderboard datasets\n",
    "\n",
    "First generate the leaderboard datasets; \n",
    "* LB1 (Full training set - all subjects)\n",
    "* LB2 (Selection of subjects for prediction & testing against)"
   ]
  },
  {
   "cell_type": "code",
   "execution_count": 5,
   "metadata": {},
   "outputs": [
    {
     "name": "stdout",
     "output_type": "stream",
     "text": [
      "TADPOLE_LB1_LB2.csv created in ../data/\n",
      "columns ['RID', 'PTID', 'VISCODE', 'SITE', 'D1', 'D2', 'LB1', 'LB2', 'COLPROT', 'ORIGPROT']\n",
      "TADPOLE_LB4.csv created in ../data/\n",
      "Submission skeleton TADPOLE_Submission_Leaderboard_TeamName.csv created in ../data/\n"
     ]
    }
   ],
   "source": [
    "from makeLeaderboardDataset import *\n",
    "import pandas as pd\n",
    "\n",
    "generateLBdatasets(inputFolder='../data/', outputFolder='../data/')\n"
   ]
  },
  {
   "cell_type": "markdown",
   "metadata": {},
   "source": [
    "# Load in datasets"
   ]
  },
  {
   "cell_type": "markdown",
   "metadata": {},
   "source": [
    "## LB1: TADPOLE Standard training set.\n",
    "\n",
    "This training dataset contains medical data including:\n",
    "* MRI scans\n",
    "* PET scans\n",
    "* DTI scans\n",
    "* Cognitive assessment data\n",
    "* Demographic data\n",
    "* Genetic data\n",
    "* CSF data\n",
    "\n",
    "## LB2: TADPOLE Standard prediction set.\n",
    "\n",
    "This is a subset of LB1; the list of subjects to be predicted in the final submission\n",
    "\n",
    "\n",
    "See the github readme file [\"https://github.com/swhustla/pycon2017-alzheimers-hack/blob/master/README.md\"] for more information and explanations on the data sources.\n",
    "\n",
    "\n"
   ]
  },
  {
   "cell_type": "code",
   "execution_count": 6,
   "metadata": {},
   "outputs": [],
   "source": [
    "def load_tadpole_data(tadpole_path=TADPOLE_PATH):\n",
    "    csv_path_lb1_lb2 = os.path.join(tadpole_path, \"TADPOLE_LB1_LB2.csv\")\n",
    "    return pd.read_csv(csv_path_lb1_lb2, low_memory=False)\n",
    "\n",
    "tadpole_lb1_lb2 = load_tadpole_data()"
   ]
  },
  {
   "cell_type": "markdown",
   "metadata": {},
   "source": [
    "# Data Exploration"
   ]
  },
  {
   "cell_type": "code",
   "execution_count": 7,
   "metadata": {},
   "outputs": [
    {
     "data": {
      "text/html": [
       "<div>\n",
       "<table border=\"1\" class=\"dataframe\">\n",
       "  <thead>\n",
       "    <tr style=\"text-align: right;\">\n",
       "      <th></th>\n",
       "      <th>RID</th>\n",
       "      <th>PTID</th>\n",
       "      <th>VISCODE</th>\n",
       "      <th>SITE</th>\n",
       "      <th>D1</th>\n",
       "      <th>D2</th>\n",
       "      <th>LB1</th>\n",
       "      <th>LB2</th>\n",
       "      <th>COLPROT</th>\n",
       "      <th>ORIGPROT</th>\n",
       "      <th>...</th>\n",
       "      <th>PHASE_UPENNBIOMK9_04_19_17</th>\n",
       "      <th>BATCH_UPENNBIOMK9_04_19_17</th>\n",
       "      <th>KIT_UPENNBIOMK9_04_19_17</th>\n",
       "      <th>STDS_UPENNBIOMK9_04_19_17</th>\n",
       "      <th>RUNDATE_UPENNBIOMK9_04_19_17</th>\n",
       "      <th>ABETA_UPENNBIOMK9_04_19_17</th>\n",
       "      <th>TAU_UPENNBIOMK9_04_19_17</th>\n",
       "      <th>PTAU_UPENNBIOMK9_04_19_17</th>\n",
       "      <th>COMMENT_UPENNBIOMK9_04_19_17</th>\n",
       "      <th>update_stamp_UPENNBIOMK9_04_19_17</th>\n",
       "    </tr>\n",
       "  </thead>\n",
       "  <tbody>\n",
       "    <tr>\n",
       "      <th>0</th>\n",
       "      <td>2</td>\n",
       "      <td>011_S_0002</td>\n",
       "      <td>bl</td>\n",
       "      <td>11</td>\n",
       "      <td>1</td>\n",
       "      <td>1</td>\n",
       "      <td>1</td>\n",
       "      <td>0</td>\n",
       "      <td>ADNI1</td>\n",
       "      <td>ADNI1</td>\n",
       "      <td>...</td>\n",
       "      <td></td>\n",
       "      <td></td>\n",
       "      <td></td>\n",
       "      <td></td>\n",
       "      <td></td>\n",
       "      <td></td>\n",
       "      <td></td>\n",
       "      <td></td>\n",
       "      <td></td>\n",
       "      <td></td>\n",
       "    </tr>\n",
       "    <tr>\n",
       "      <th>1</th>\n",
       "      <td>3</td>\n",
       "      <td>011_S_0003</td>\n",
       "      <td>bl</td>\n",
       "      <td>11</td>\n",
       "      <td>1</td>\n",
       "      <td>0</td>\n",
       "      <td>1</td>\n",
       "      <td>0</td>\n",
       "      <td>ADNI1</td>\n",
       "      <td>ADNI1</td>\n",
       "      <td>...</td>\n",
       "      <td>ADNI1</td>\n",
       "      <td>UPENNBIOMK9</td>\n",
       "      <td>P06-MP02-MP01</td>\n",
       "      <td>P06-MP02-MP01/2</td>\n",
       "      <td>2016-12-14</td>\n",
       "      <td>741.5</td>\n",
       "      <td>239.7</td>\n",
       "      <td>22.83</td>\n",
       "      <td>NaN</td>\n",
       "      <td>2017-04-20 14:39:54.0</td>\n",
       "    </tr>\n",
       "    <tr>\n",
       "      <th>2</th>\n",
       "      <td>3</td>\n",
       "      <td>011_S_0003</td>\n",
       "      <td>m06</td>\n",
       "      <td>11</td>\n",
       "      <td>1</td>\n",
       "      <td>0</td>\n",
       "      <td>1</td>\n",
       "      <td>0</td>\n",
       "      <td>ADNI1</td>\n",
       "      <td>ADNI1</td>\n",
       "      <td>...</td>\n",
       "      <td></td>\n",
       "      <td></td>\n",
       "      <td></td>\n",
       "      <td></td>\n",
       "      <td></td>\n",
       "      <td></td>\n",
       "      <td></td>\n",
       "      <td></td>\n",
       "      <td></td>\n",
       "      <td></td>\n",
       "    </tr>\n",
       "    <tr>\n",
       "      <th>3</th>\n",
       "      <td>3</td>\n",
       "      <td>011_S_0003</td>\n",
       "      <td>m12</td>\n",
       "      <td>11</td>\n",
       "      <td>1</td>\n",
       "      <td>0</td>\n",
       "      <td>1</td>\n",
       "      <td>0</td>\n",
       "      <td>ADNI1</td>\n",
       "      <td>ADNI1</td>\n",
       "      <td>...</td>\n",
       "      <td>ADNI1</td>\n",
       "      <td>UPENNBIOMK9</td>\n",
       "      <td>P06-MP02-MP01</td>\n",
       "      <td>P06-MP02-MP01/2</td>\n",
       "      <td>2016-12-14</td>\n",
       "      <td>601.4</td>\n",
       "      <td>251.7</td>\n",
       "      <td>24.18</td>\n",
       "      <td>NaN</td>\n",
       "      <td>2017-04-20 14:39:54.0</td>\n",
       "    </tr>\n",
       "    <tr>\n",
       "      <th>4</th>\n",
       "      <td>3</td>\n",
       "      <td>011_S_0003</td>\n",
       "      <td>m24</td>\n",
       "      <td>11</td>\n",
       "      <td>1</td>\n",
       "      <td>0</td>\n",
       "      <td>1</td>\n",
       "      <td>0</td>\n",
       "      <td>ADNI1</td>\n",
       "      <td>ADNI1</td>\n",
       "      <td>...</td>\n",
       "      <td></td>\n",
       "      <td></td>\n",
       "      <td></td>\n",
       "      <td></td>\n",
       "      <td></td>\n",
       "      <td></td>\n",
       "      <td></td>\n",
       "      <td></td>\n",
       "      <td></td>\n",
       "      <td></td>\n",
       "    </tr>\n",
       "  </tbody>\n",
       "</table>\n",
       "<p>5 rows × 1909 columns</p>\n",
       "</div>"
      ],
      "text/plain": [
       "   RID        PTID VISCODE  SITE  D1  D2  LB1  LB2 COLPROT ORIGPROT  \\\n",
       "0    2  011_S_0002      bl    11   1   1    1    0   ADNI1    ADNI1   \n",
       "1    3  011_S_0003      bl    11   1   0    1    0   ADNI1    ADNI1   \n",
       "2    3  011_S_0003     m06    11   1   0    1    0   ADNI1    ADNI1   \n",
       "3    3  011_S_0003     m12    11   1   0    1    0   ADNI1    ADNI1   \n",
       "4    3  011_S_0003     m24    11   1   0    1    0   ADNI1    ADNI1   \n",
       "\n",
       "                 ...                 PHASE_UPENNBIOMK9_04_19_17  \\\n",
       "0                ...                                              \n",
       "1                ...                                      ADNI1   \n",
       "2                ...                                              \n",
       "3                ...                                      ADNI1   \n",
       "4                ...                                              \n",
       "\n",
       "  BATCH_UPENNBIOMK9_04_19_17  KIT_UPENNBIOMK9_04_19_17  \\\n",
       "0                                                        \n",
       "1                UPENNBIOMK9             P06-MP02-MP01   \n",
       "2                                                        \n",
       "3                UPENNBIOMK9             P06-MP02-MP01   \n",
       "4                                                        \n",
       "\n",
       "   STDS_UPENNBIOMK9_04_19_17 RUNDATE_UPENNBIOMK9_04_19_17  \\\n",
       "0                                                           \n",
       "1            P06-MP02-MP01/2                   2016-12-14   \n",
       "2                                                           \n",
       "3            P06-MP02-MP01/2                   2016-12-14   \n",
       "4                                                           \n",
       "\n",
       "   ABETA_UPENNBIOMK9_04_19_17 TAU_UPENNBIOMK9_04_19_17  \\\n",
       "0                                                        \n",
       "1                       741.5                    239.7   \n",
       "2                                                        \n",
       "3                       601.4                    251.7   \n",
       "4                                                        \n",
       "\n",
       "  PTAU_UPENNBIOMK9_04_19_17 COMMENT_UPENNBIOMK9_04_19_17  \\\n",
       "0                                                          \n",
       "1                     22.83                          NaN   \n",
       "2                                                          \n",
       "3                     24.18                          NaN   \n",
       "4                                                          \n",
       "\n",
       "   update_stamp_UPENNBIOMK9_04_19_17  \n",
       "0                                     \n",
       "1              2017-04-20 14:39:54.0  \n",
       "2                                     \n",
       "3              2017-04-20 14:39:54.0  \n",
       "4                                     \n",
       "\n",
       "[5 rows x 1909 columns]"
      ]
     },
     "execution_count": 7,
     "metadata": {},
     "output_type": "execute_result"
    }
   ],
   "source": [
    "tadpole_lb1_lb2.head()"
   ]
  },
  {
   "cell_type": "code",
   "execution_count": 8,
   "metadata": {},
   "outputs": [
    {
     "name": "stdout",
     "output_type": "stream",
     "text": [
      "['RID', 'PTID', 'VISCODE', 'SITE', 'D1', 'D2', 'LB1', 'LB2', 'COLPROT', 'ORIGPROT', 'EXAMDATE', 'DX_bl', 'DXCHANGE', 'AGE', 'PTGENDER', 'PTEDUCAT', 'PTETHCAT', 'PTRACCAT', 'PTMARRY', 'APOE4', 'FDG', 'PIB', 'AV45', 'CDRSB', 'ADAS11', 'ADAS13', 'MMSE', 'RAVLT_immediate', 'RAVLT_learning', 'RAVLT_forgetting']\n"
     ]
    }
   ],
   "source": [
    "print(list(tadpole_lb1_lb2.columns)[:30])"
   ]
  },
  {
   "cell_type": "code",
   "execution_count": 9,
   "metadata": {},
   "outputs": [
    {
     "name": "stdout",
     "output_type": "stream",
     "text": [
      "<class 'pandas.core.frame.DataFrame'>\n",
      "Int64Index: 12012 entries, 0 to 12011\n",
      "Columns: 1909 entries, RID to update_stamp_UPENNBIOMK9_04_19_17\n",
      "dtypes: float64(72), int64(10), object(1827)\n",
      "memory usage: 175.0+ MB\n",
      "None\n"
     ]
    },
    {
     "data": {
      "text/html": [
       "<div>\n",
       "<table border=\"1\" class=\"dataframe\">\n",
       "  <thead>\n",
       "    <tr style=\"text-align: right;\">\n",
       "      <th></th>\n",
       "      <th>RID</th>\n",
       "      <th>SITE</th>\n",
       "      <th>D1</th>\n",
       "      <th>D2</th>\n",
       "      <th>LB1</th>\n",
       "      <th>LB2</th>\n",
       "      <th>DXCHANGE</th>\n",
       "      <th>AGE</th>\n",
       "      <th>PTEDUCAT</th>\n",
       "      <th>APOE4</th>\n",
       "      <th>...</th>\n",
       "      <th>EcogSPOrgan_bl</th>\n",
       "      <th>EcogSPDivatt_bl</th>\n",
       "      <th>EcogSPTotal_bl</th>\n",
       "      <th>FDG_bl</th>\n",
       "      <th>PIB_bl</th>\n",
       "      <th>AV45_bl</th>\n",
       "      <th>Years_bl</th>\n",
       "      <th>Month_bl</th>\n",
       "      <th>Month</th>\n",
       "      <th>M</th>\n",
       "    </tr>\n",
       "  </thead>\n",
       "  <tbody>\n",
       "    <tr>\n",
       "      <th>count</th>\n",
       "      <td>12012.000000</td>\n",
       "      <td>12012.000000</td>\n",
       "      <td>12012.000000</td>\n",
       "      <td>12012.000000</td>\n",
       "      <td>12012.000000</td>\n",
       "      <td>12012.000000</td>\n",
       "      <td>8475.000000</td>\n",
       "      <td>12012.000000</td>\n",
       "      <td>12012.000000</td>\n",
       "      <td>12000.000000</td>\n",
       "      <td>...</td>\n",
       "      <td>5504.000000</td>\n",
       "      <td>5637.000000</td>\n",
       "      <td>5767.000000</td>\n",
       "      <td>8781.000000</td>\n",
       "      <td>120.000000</td>\n",
       "      <td>5750.000000</td>\n",
       "      <td>12012.000000</td>\n",
       "      <td>12012.000000</td>\n",
       "      <td>12012.000000</td>\n",
       "      <td>12012.000000</td>\n",
       "    </tr>\n",
       "    <tr>\n",
       "      <th>mean</th>\n",
       "      <td>2336.799118</td>\n",
       "      <td>72.953713</td>\n",
       "      <td>0.994172</td>\n",
       "      <td>0.588745</td>\n",
       "      <td>0.928571</td>\n",
       "      <td>0.071429</td>\n",
       "      <td>2.103363</td>\n",
       "      <td>73.760931</td>\n",
       "      <td>15.986097</td>\n",
       "      <td>0.550167</td>\n",
       "      <td>...</td>\n",
       "      <td>1.651214</td>\n",
       "      <td>1.845027</td>\n",
       "      <td>1.693177</td>\n",
       "      <td>1.246474</td>\n",
       "      <td>1.610021</td>\n",
       "      <td>1.202087</td>\n",
       "      <td>1.925861</td>\n",
       "      <td>23.062975</td>\n",
       "      <td>22.977772</td>\n",
       "      <td>22.818931</td>\n",
       "    </tr>\n",
       "    <tr>\n",
       "      <th>std</th>\n",
       "      <td>1864.695129</td>\n",
       "      <td>107.984561</td>\n",
       "      <td>0.076119</td>\n",
       "      <td>0.492082</td>\n",
       "      <td>0.257550</td>\n",
       "      <td>0.257550</td>\n",
       "      <td>1.077779</td>\n",
       "      <td>7.043616</td>\n",
       "      <td>2.829938</td>\n",
       "      <td>0.660570</td>\n",
       "      <td>...</td>\n",
       "      <td>0.838895</td>\n",
       "      <td>0.894895</td>\n",
       "      <td>0.700158</td>\n",
       "      <td>0.146611</td>\n",
       "      <td>0.330875</td>\n",
       "      <td>0.222027</td>\n",
       "      <td>1.943552</td>\n",
       "      <td>23.274829</td>\n",
       "      <td>23.210868</td>\n",
       "      <td>23.020114</td>\n",
       "    </tr>\n",
       "    <tr>\n",
       "      <th>min</th>\n",
       "      <td>2.000000</td>\n",
       "      <td>2.000000</td>\n",
       "      <td>0.000000</td>\n",
       "      <td>0.000000</td>\n",
       "      <td>0.000000</td>\n",
       "      <td>0.000000</td>\n",
       "      <td>1.000000</td>\n",
       "      <td>54.400000</td>\n",
       "      <td>4.000000</td>\n",
       "      <td>0.000000</td>\n",
       "      <td>...</td>\n",
       "      <td>1.000000</td>\n",
       "      <td>1.000000</td>\n",
       "      <td>1.000000</td>\n",
       "      <td>0.697264</td>\n",
       "      <td>1.155000</td>\n",
       "      <td>0.838537</td>\n",
       "      <td>0.000000</td>\n",
       "      <td>0.000000</td>\n",
       "      <td>0.000000</td>\n",
       "      <td>0.000000</td>\n",
       "    </tr>\n",
       "    <tr>\n",
       "      <th>25%</th>\n",
       "      <td>658.000000</td>\n",
       "      <td>21.000000</td>\n",
       "      <td>1.000000</td>\n",
       "      <td>0.000000</td>\n",
       "      <td>1.000000</td>\n",
       "      <td>0.000000</td>\n",
       "      <td>1.000000</td>\n",
       "      <td>69.400000</td>\n",
       "      <td>14.000000</td>\n",
       "      <td>0.000000</td>\n",
       "      <td>...</td>\n",
       "      <td>1.000000</td>\n",
       "      <td>1.000000</td>\n",
       "      <td>1.153850</td>\n",
       "      <td>1.157480</td>\n",
       "      <td>1.335000</td>\n",
       "      <td>1.019440</td>\n",
       "      <td>0.490075</td>\n",
       "      <td>5.868850</td>\n",
       "      <td>6.000000</td>\n",
       "      <td>6.000000</td>\n",
       "    </tr>\n",
       "    <tr>\n",
       "      <th>50%</th>\n",
       "      <td>1378.000000</td>\n",
       "      <td>41.000000</td>\n",
       "      <td>1.000000</td>\n",
       "      <td>1.000000</td>\n",
       "      <td>1.000000</td>\n",
       "      <td>0.000000</td>\n",
       "      <td>2.000000</td>\n",
       "      <td>73.700000</td>\n",
       "      <td>16.000000</td>\n",
       "      <td>0.000000</td>\n",
       "      <td>...</td>\n",
       "      <td>1.250000</td>\n",
       "      <td>1.500000</td>\n",
       "      <td>1.435900</td>\n",
       "      <td>1.254910</td>\n",
       "      <td>1.490000</td>\n",
       "      <td>1.125370</td>\n",
       "      <td>1.496235</td>\n",
       "      <td>17.918000</td>\n",
       "      <td>18.000000</td>\n",
       "      <td>18.000000</td>\n",
       "    </tr>\n",
       "    <tr>\n",
       "      <th>75%</th>\n",
       "      <td>4371.000000</td>\n",
       "      <td>116.000000</td>\n",
       "      <td>1.000000</td>\n",
       "      <td>1.000000</td>\n",
       "      <td>1.000000</td>\n",
       "      <td>0.000000</td>\n",
       "      <td>3.000000</td>\n",
       "      <td>78.800000</td>\n",
       "      <td>18.000000</td>\n",
       "      <td>1.000000</td>\n",
       "      <td>...</td>\n",
       "      <td>2.000000</td>\n",
       "      <td>2.333330</td>\n",
       "      <td>2.051280</td>\n",
       "      <td>1.338750</td>\n",
       "      <td>1.835000</td>\n",
       "      <td>1.374980</td>\n",
       "      <td>2.904860</td>\n",
       "      <td>34.786900</td>\n",
       "      <td>36.000000</td>\n",
       "      <td>36.000000</td>\n",
       "    </tr>\n",
       "    <tr>\n",
       "      <th>max</th>\n",
       "      <td>5296.000000</td>\n",
       "      <td>941.000000</td>\n",
       "      <td>1.000000</td>\n",
       "      <td>1.000000</td>\n",
       "      <td>1.000000</td>\n",
       "      <td>1.000000</td>\n",
       "      <td>8.000000</td>\n",
       "      <td>91.400000</td>\n",
       "      <td>20.000000</td>\n",
       "      <td>2.000000</td>\n",
       "      <td>...</td>\n",
       "      <td>4.000000</td>\n",
       "      <td>4.000000</td>\n",
       "      <td>3.948720</td>\n",
       "      <td>1.707170</td>\n",
       "      <td>2.282500</td>\n",
       "      <td>2.025560</td>\n",
       "      <td>10.321700</td>\n",
       "      <td>123.607000</td>\n",
       "      <td>126.000000</td>\n",
       "      <td>120.000000</td>\n",
       "    </tr>\n",
       "  </tbody>\n",
       "</table>\n",
       "<p>8 rows × 82 columns</p>\n",
       "</div>"
      ],
      "text/plain": [
       "                RID          SITE            D1            D2           LB1  \\\n",
       "count  12012.000000  12012.000000  12012.000000  12012.000000  12012.000000   \n",
       "mean    2336.799118     72.953713      0.994172      0.588745      0.928571   \n",
       "std     1864.695129    107.984561      0.076119      0.492082      0.257550   \n",
       "min        2.000000      2.000000      0.000000      0.000000      0.000000   \n",
       "25%      658.000000     21.000000      1.000000      0.000000      1.000000   \n",
       "50%     1378.000000     41.000000      1.000000      1.000000      1.000000   \n",
       "75%     4371.000000    116.000000      1.000000      1.000000      1.000000   \n",
       "max     5296.000000    941.000000      1.000000      1.000000      1.000000   \n",
       "\n",
       "                LB2     DXCHANGE           AGE      PTEDUCAT         APOE4  \\\n",
       "count  12012.000000  8475.000000  12012.000000  12012.000000  12000.000000   \n",
       "mean       0.071429     2.103363     73.760931     15.986097      0.550167   \n",
       "std        0.257550     1.077779      7.043616      2.829938      0.660570   \n",
       "min        0.000000     1.000000     54.400000      4.000000      0.000000   \n",
       "25%        0.000000     1.000000     69.400000     14.000000      0.000000   \n",
       "50%        0.000000     2.000000     73.700000     16.000000      0.000000   \n",
       "75%        0.000000     3.000000     78.800000     18.000000      1.000000   \n",
       "max        1.000000     8.000000     91.400000     20.000000      2.000000   \n",
       "\n",
       "           ...       EcogSPOrgan_bl  EcogSPDivatt_bl  EcogSPTotal_bl  \\\n",
       "count      ...          5504.000000      5637.000000     5767.000000   \n",
       "mean       ...             1.651214         1.845027        1.693177   \n",
       "std        ...             0.838895         0.894895        0.700158   \n",
       "min        ...             1.000000         1.000000        1.000000   \n",
       "25%        ...             1.000000         1.000000        1.153850   \n",
       "50%        ...             1.250000         1.500000        1.435900   \n",
       "75%        ...             2.000000         2.333330        2.051280   \n",
       "max        ...             4.000000         4.000000        3.948720   \n",
       "\n",
       "            FDG_bl      PIB_bl      AV45_bl      Years_bl      Month_bl  \\\n",
       "count  8781.000000  120.000000  5750.000000  12012.000000  12012.000000   \n",
       "mean      1.246474    1.610021     1.202087      1.925861     23.062975   \n",
       "std       0.146611    0.330875     0.222027      1.943552     23.274829   \n",
       "min       0.697264    1.155000     0.838537      0.000000      0.000000   \n",
       "25%       1.157480    1.335000     1.019440      0.490075      5.868850   \n",
       "50%       1.254910    1.490000     1.125370      1.496235     17.918000   \n",
       "75%       1.338750    1.835000     1.374980      2.904860     34.786900   \n",
       "max       1.707170    2.282500     2.025560     10.321700    123.607000   \n",
       "\n",
       "              Month             M  \n",
       "count  12012.000000  12012.000000  \n",
       "mean      22.977772     22.818931  \n",
       "std       23.210868     23.020114  \n",
       "min        0.000000      0.000000  \n",
       "25%        6.000000      6.000000  \n",
       "50%       18.000000     18.000000  \n",
       "75%       36.000000     36.000000  \n",
       "max      126.000000    120.000000  \n",
       "\n",
       "[8 rows x 82 columns]"
      ]
     },
     "execution_count": 9,
     "metadata": {},
     "output_type": "execute_result"
    }
   ],
   "source": [
    "print(tadpole_lb1_lb2.info())\n",
    "tadpole_lb1_lb2.describe()"
   ]
  },
  {
   "cell_type": "code",
   "execution_count": 10,
   "metadata": {},
   "outputs": [
    {
     "data": {
      "text/plain": [
       "MCI                3801\n",
       "NL                 2477\n",
       "Dementia           1686\n",
       "MCI to Dementia     346\n",
       "NL to MCI            89\n",
       "MCI to NL            73\n",
       "Dementia to MCI      12\n",
       "NL to Dementia        3\n",
       "Name: DX, dtype: int64"
      ]
     },
     "execution_count": 10,
     "metadata": {},
     "output_type": "execute_result"
    }
   ],
   "source": [
    "tadpole_lb1_lb2[\"DX\"].value_counts()"
   ]
  },
  {
   "cell_type": "code",
   "execution_count": 11,
   "metadata": {},
   "outputs": [
    {
     "data": {
      "text/plain": [
       "LMCI    4353\n",
       "CN      3383\n",
       "EMCI    2319\n",
       "AD      1568\n",
       "SMC      389\n",
       "Name: DX_bl, dtype: int64"
      ]
     },
     "execution_count": 11,
     "metadata": {},
     "output_type": "execute_result"
    }
   ],
   "source": [
    "tadpole_lb1_lb2[\"DX_bl\"].value_counts()"
   ]
  },
  {
   "cell_type": "code",
   "execution_count": 12,
   "metadata": {},
   "outputs": [
    {
     "data": {
      "text/plain": [
       "bl      1737\n",
       "m06     1618\n",
       "m12     1485\n",
       "m24     1326\n",
       "m18     1293\n",
       "m36      848\n",
       "m03      793\n",
       "m30      750\n",
       "m48      603\n",
       "m42      303\n",
       "m60      264\n",
       "m72      163\n",
       "m54      146\n",
       "m66      138\n",
       "m78      129\n",
       "m84      123\n",
       "m96      100\n",
       "m108      78\n",
       "m90       77\n",
       "m120      33\n",
       "m102       4\n",
       "m114       1\n",
       "Name: VISCODE, dtype: int64"
      ]
     },
     "execution_count": 12,
     "metadata": {},
     "output_type": "execute_result"
    }
   ],
   "source": [
    "tadpole_lb1_lb2[\"VISCODE\"].value_counts()"
   ]
  },
  {
   "cell_type": "code",
   "execution_count": 14,
   "metadata": {},
   "outputs": [
    {
     "data": {
      "image/png": "[encoded data removed]",
      "text/plain": [
       "<matplotlib.figure.Figure at 0x112f54da0>"
      ]
     },
     "metadata": {},
     "output_type": "display_data"
    }
   ],
   "source": [
    "\n",
    "\n",
    "%matplotlib inline\n",
    "import matplotlib.pyplot as plt\n",
    "import seaborn as sns\n",
    "tadpole_lb1_lb2.hist(bins=50, figsize=(20,15))\n",
    "plt.show()"
   ]
  },
  {
   "cell_type": "markdown",
   "metadata": {
    "collapsed": true
   },
   "source": [
    "# Data Preparation"
   ]
  },
  {
   "cell_type": "markdown",
   "metadata": {},
   "source": [
    "# Plain vanilla model"
   ]
  },
  {
   "cell_type": "markdown",
   "metadata": {},
   "source": [
    "# pipeline for generating, evaluating and submitting a leaderboard submission\n",
    "    "
   ]
  },
  {
   "cell_type": "markdown",
   "metadata": {},
   "source": [
    "Then generate a simple forecast from the training data, and save it as ```TADPOLE_Submission_Pycon_TeamName1.csv```\n"
   ]
  },
  {
   "cell_type": "code",
   "execution_count": 8,
   "metadata": {},
   "outputs": [
    {
     "name": "stdout",
     "output_type": "stream",
     "text": [
      "Generating forecast ...\n",
      "Constructing the output spreadsheet ../data/TADPOLE_Submission_Pycon_TeamName1.csv ...\n"
     ]
    }
   ],
   "source": [
    "!python3 TADPOLE_SimpleForecast1.py"
   ]
  },
  {
   "cell_type": "markdown",
   "metadata": {},
   "source": [
    "You should replace TeamName1 with your team name and submission index (no underscores allowed)\n",
    "e.g., TADPOLE_Submission_Pycon_TeamAwesome3.csv"
   ]
  },
  {
   "cell_type": "code",
   "execution_count": 9,
   "metadata": {
    "collapsed": true
   },
   "outputs": [],
   "source": [
    "team_name = \"TeamFrank1\" ## add your own team name here"
   ]
  },
  {
   "cell_type": "code",
   "execution_count": 10,
   "metadata": {},
   "outputs": [
    {
     "data": {
      "text/plain": [
       "0"
      ]
     },
     "execution_count": 10,
     "metadata": {},
     "output_type": "execute_result"
    }
   ],
   "source": [
    "import os\n",
    "oldFile = '../data/TADPOLE_Submission_Pycon_TeamName1.csv'\n",
    "newFile = '../data/TADPOLE_Submission_Pycon_%s.csv' % team_name\n",
    "os.system('mv %s %s' % (oldFile, newFile))\n"
   ]
  },
  {
   "cell_type": "markdown",
   "metadata": {},
   "source": [
    "Evaluate the user forecasts from TADPOLE_Submission_Leaderboard_TeamName1.csv against TADPOLE_LB4_dummy.csv (held out dataset) using the evaluation function"
   ]
  },
  {
   "cell_type": "code",
   "execution_count": 11,
   "metadata": {},
   "outputs": [
    {
     "data": {
      "text/plain": [
       "0"
      ]
     },
     "execution_count": 11,
     "metadata": {},
     "output_type": "execute_result"
    }
   ],
   "source": [
    "os.system('python3 evalOneSubmission.py --leaderboard --d4File %s --forecastFile %s' % (\"../data/TADPOLE_LB4_dummy.csv\", newFile))\n",
    "\n",
    "# !python3 evalOneSubmission.py --leaderboard --d4File ../data/TADPOLE_LB4.csv --forecastFile      ../data/TADPOLE_Submission_Leaderboard_Team_frank_test.csv"
   ]
  },
  {
   "cell_type": "code",
   "execution_count": null,
   "metadata": {
    "collapsed": true
   },
   "outputs": [],
   "source": [
    "# Submit (renamed version of) TADPOLE_Submission_Leaderboard_TeamName1.csv to TADPOLE website via the Submit page"
   ]
  }
 ],
 "metadata": {
  "kernelspec": {
   "display_name": "Python 3",
   "language": "python",
   "name": "python3"
  },
  "toc": {
   "collapse_to_match_collapsible_headings": false,
   "colors": {
    "hover_highlight": "#DAA520",
    "navigate_num": "#000000",
    "navigate_text": "#333333",
    "running_highlight": "#FF0000",
    "selected_highlight": "#FFD700",
    "sidebar_border": "#EEEEEE",
    "wrapper_background": "#FFFFFF"
   },
   "moveMenuLeft": true,
   "nav_menu": {
    "height": "99px",
    "width": "252px"
   },
   "navigate_menu": true,
   "number_sections": true,
   "sideBar": true,
   "skip_h1_title": false,
   "threshold": 4,
   "toc_cell": false,
   "toc_section_display": "block",
   "toc_window_display": false,
   "widenNotebook": false
  }
 },
 "nbformat": 4,
 "nbformat_minor": 2
}
